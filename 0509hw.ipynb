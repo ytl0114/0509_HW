{
 "cells": [
  {
   "cell_type": "code",
   "execution_count": 5,
   "id": "08038624",
   "metadata": {
    "scrolled": true
   },
   "outputs": [],
   "source": [
    "import numpy as np\n",
    "import scipy.stats as si"
   ]
  },
  {
   "cell_type": "code",
   "execution_count": 4,
   "id": "abc66031",
   "metadata": {},
   "outputs": [
    {
     "name": "stdout",
     "output_type": "stream",
     "text": [
      "Requirement already satisfied: numpy==1.23.0 in c:\\users\\sklam\\anaconda3\\lib\\site-packages (1.23.0)\n"
     ]
    }
   ],
   "source": [
    "\n",
    "!pip install numpy==1.23.0"
   ]
  },
  {
   "cell_type": "code",
   "execution_count": 18,
   "id": "06c0b4d0",
   "metadata": {},
   "outputs": [
    {
     "name": "stdout",
     "output_type": "stream",
     "text": [
      "S,K,T,r,sigma= 90 100 0.5 0.01 0.3\n",
      "BS_call= 4.1281 , BS_put= 13.6294\n"
     ]
    }
   ],
   "source": [
    "S,K,T,r,sigma = 90,100,0.5,0.01,0.3\n",
    "def BS(S,K,T,r,sigma):\n",
    "    d1=(np.log(S/K)+(r+0.5*sigma**2)*T)/(sigma*np.sqrt(T))\n",
    "    d2=(np.log(S/K)+(r-0.5*sigma**2)*T)/(sigma*np.sqrt(T))\n",
    "    call = S*si.norm.cdf(d1,0.0,1.0)-K*np.exp(-r*T)*si.norm.cdf(d2,0.0,1.0)\n",
    "    put = -S*si.norm.cdf(-d1,0.0,1.0)+K*np.exp(-r*T)*si.norm.cdf(-d2,0.0,1.0)\n",
    "    return call,put\n",
    "BS_call, BS_put= BS(S,K,T,r,sigma)\n",
    "print ('S,K,T,r,sigma=',S,K,T,r,sigma)\n",
    "print ('BS_call=',round(BS_call,4),', BS_put=', round(BS_put,4))\n",
    "\n",
    "    "
   ]
  },
  {
   "cell_type": "code",
   "execution_count": 7,
   "id": "667b5801",
   "metadata": {},
   "outputs": [],
   "source": [
    "K=(10,200)"
   ]
  },
  {
   "cell_type": "code",
   "execution_count": 8,
   "id": "0fd6d2e7",
   "metadata": {},
   "outputs": [
    {
     "data": {
      "text/plain": [
       "(10, 200)"
      ]
     },
     "execution_count": 8,
     "metadata": {},
     "output_type": "execute_result"
    }
   ],
   "source": [
    "K"
   ]
  },
  {
   "cell_type": "code",
   "execution_count": 11,
   "id": "67c090ab",
   "metadata": {},
   "outputs": [],
   "source": [
    "#建立想要的X座標(K，履約價)\n",
    "Ks= np.linspace(10,150, num=10)"
   ]
  },
  {
   "cell_type": "code",
   "execution_count": 12,
   "id": "477df2c5",
   "metadata": {},
   "outputs": [
    {
     "data": {
      "text/plain": [
       "array([ 10.        ,  25.55555556,  41.11111111,  56.66666667,\n",
       "        72.22222222,  87.77777778, 103.33333333, 118.88888889,\n",
       "       134.44444444, 150.        ])"
      ]
     },
     "execution_count": 12,
     "metadata": {},
     "output_type": "execute_result"
    }
   ],
   "source": [
    "Ks"
   ]
  },
  {
   "cell_type": "code",
   "execution_count": 19,
   "id": "c8a538c4",
   "metadata": {},
   "outputs": [
    {
     "name": "stdout",
     "output_type": "stream",
     "text": [
      "S,K,T,r,sigma= 90 10.0 0.5 0.01 0.3\n",
      "S,K,T,r,sigma= 90 25.555555555555557 0.5 0.01 0.3\n",
      "S,K,T,r,sigma= 90 41.111111111111114 0.5 0.01 0.3\n",
      "S,K,T,r,sigma= 90 56.666666666666664 0.5 0.01 0.3\n",
      "S,K,T,r,sigma= 90 72.22222222222223 0.5 0.01 0.3\n",
      "S,K,T,r,sigma= 90 87.77777777777777 0.5 0.01 0.3\n",
      "S,K,T,r,sigma= 90 103.33333333333333 0.5 0.01 0.3\n",
      "S,K,T,r,sigma= 90 118.88888888888889 0.5 0.01 0.3\n",
      "S,K,T,r,sigma= 90 134.44444444444446 0.5 0.01 0.3\n",
      "S,K,T,r,sigma= 90 150.0 0.5 0.01 0.3\n"
     ]
    }
   ],
   "source": [
    "for i in range(10):\n",
    "    K= Ks[i]\n",
    "    print('S,K,T,r,sigma=',S,K,T,r,sigma)\n",
    "    "
   ]
  },
  {
   "cell_type": "code",
   "execution_count": 20,
   "id": "e70e60d6",
   "metadata": {},
   "outputs": [
    {
     "name": "stdout",
     "output_type": "stream",
     "text": [
      "BS_call= 80.0499 BS_put= 0.0\n",
      "BS_call= 64.5719 BS_put= 0.0\n",
      "BS_call= 49.0942 BS_put= 0.0003\n",
      "BS_call= 33.6886 BS_put= 0.0726\n",
      "BS_call= 19.3973 BS_put= 1.2593\n",
      "BS_call= 8.8945 BS_put= 6.2344\n",
      "BS_call= 3.2796 BS_put= 16.0975\n",
      "BS_call= 1.0167 BS_put= 29.3126\n",
      "BS_call= 0.278 BS_put= 44.0519\n",
      "BS_call= 0.0698 BS_put= 59.3216\n"
     ]
    }
   ],
   "source": [
    "for i in range(10):\n",
    "    K= Ks[i]\n",
    "    BS_call, BS_put= BS(S,K,T,r,sigma)\n",
    "    print('BS_call=',round(BS_call,4),'BS_put=',round(BS_put,4))"
   ]
  },
  {
   "cell_type": "code",
   "execution_count": 26,
   "id": "ea1b4325",
   "metadata": {},
   "outputs": [],
   "source": [
    "BS_calls=[]\n",
    "BS_puts=[]"
   ]
  },
  {
   "cell_type": "code",
   "execution_count": 27,
   "id": "23f00bb0",
   "metadata": {},
   "outputs": [],
   "source": [
    "for i in range(10):\n",
    "    K=Ks[i]\n",
    "    BS_call, BS_put=BS(S,K,T,r,sigma)\n",
    "    BS_calls.append(BS_call)\n",
    "    BS_puts.append(BS_put)"
   ]
  },
  {
   "cell_type": "code",
   "execution_count": 28,
   "id": "3f99db48",
   "metadata": {},
   "outputs": [
    {
     "data": {
      "text/plain": [
       "[80.04987520807317,\n",
       " 64.57190331157139,\n",
       " 49.0942404453216,\n",
       " 33.68856008365088,\n",
       " 19.39728859275708,\n",
       " 8.894458924867294,\n",
       " 3.279580560912205,\n",
       " 1.0167116318704164,\n",
       " 0.278015300286409,\n",
       " 0.06975532482873292]"
      ]
     },
     "execution_count": 28,
     "metadata": {},
     "output_type": "execute_result"
    }
   ],
   "source": [
    "BS_calls"
   ]
  },
  {
   "cell_type": "code",
   "execution_count": 29,
   "id": "ed639973",
   "metadata": {},
   "outputs": [
    {
     "data": {
      "text/plain": [
       "[9.000644740608995e-26,\n",
       " 2.051045274546004e-09,\n",
       " 0.00030903435410971,\n",
       " 0.07260057123621333,\n",
       " 1.2593009788952578,\n",
       " 6.234443209558293,\n",
       " 16.097536744156045,\n",
       " 29.31263971366708,\n",
       " 44.051915280635924,\n",
       " 59.32162720373108]"
      ]
     },
     "execution_count": 29,
     "metadata": {},
     "output_type": "execute_result"
    }
   ],
   "source": [
    "BS_puts"
   ]
  },
  {
   "cell_type": "code",
   "execution_count": 32,
   "id": "d5a42dfe",
   "metadata": {},
   "outputs": [
    {
     "data": {
      "text/plain": [
       "<function matplotlib.pyplot.show(close=None, block=None)>"
      ]
     },
     "execution_count": 32,
     "metadata": {},
     "output_type": "execute_result"
    },
    {
     "data": {
      "image/png": "[encoded data removed]",
      "text/plain": [
       "<Figure size 432x288 with 1 Axes>"
      ]
     },
     "metadata": {
      "needs_background": "light"
     },
     "output_type": "display_data"
    }
   ],
   "source": [
    "import matplotlib.pyplot as plt\n",
    "plt.plot(Ks,BS_calls)\n",
    "plt.savefig('call.png')\n",
    "plt.show"
   ]
  },
  {
   "cell_type": "code",
   "execution_count": 33,
   "id": "47b6dacf",
   "metadata": {},
   "outputs": [
    {
     "data": {
      "text/plain": [
       "<function matplotlib.pyplot.show(close=None, block=None)>"
      ]
     },
     "execution_count": 33,
     "metadata": {},
     "output_type": "execute_result"
    },
    {
     "data": {
      "image/png": "[encoded data removed]",
      "text/plain": [
       "<Figure size 432x288 with 1 Axes>"
      ]
     },
     "metadata": {
      "needs_background": "light"
     },
     "output_type": "display_data"
    }
   ],
   "source": [
    "plt.plot(Ks,BS_puts)\n",
    "plt.savefig('put.png')\n",
    "plt.show"
   ]
  }
 ],
 "metadata": {
  "kernelspec": {
   "display_name": "Python 3",
   "language": "python",
   "name": "python3"
  },
  "language_info": {
   "codemirror_mode": {
    "name": "ipython",
    "version": 3
   },
   "file_extension": ".py",
   "mimetype": "text/x-python",
   "name": "python",
   "nbconvert_exporter": "python",
   "pygments_lexer": "ipython3",
   "version": "3.8.8"
  }
 },
 "nbformat": 4,
 "nbformat_minor": 5
}
